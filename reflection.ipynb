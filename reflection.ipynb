{
 "cells": [
  {
   "cell_type": "markdown",
   "metadata": {},
   "source": [
    "**Which Python functions did you use to get input from the user?**  \n",
    "The input() function was used to gather information from the user.\n",
    "\n",
    "**How did f-string formatting help in constructing the story?**  \n",
    "It allowed the variables to be embedded within the string. This is much \n",
    "manually. \n",
    "\n",
    "**What would you change or add to your script if you wanted to make the \n",
    "I would create additional stories that revolve around a specific theme. "
   ]
  }
 ],
 "metadata": {
  "language_info": {
   "name": "python"
  }
 },
 "nbformat": 4,
 "nbformat_minor": 2
}
